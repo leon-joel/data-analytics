{
  "nbformat": 4,
  "nbformat_minor": 0,
  "metadata": {
    "colab": {
      "name": "データ分析基礎.ipynb",
      "provenance": [],
      "collapsed_sections": [
        "5SOXvIClFUHS",
        "PotLvDWymbW-",
        "L7aNoqqpHbR_",
        "lTnFHwIzHaoY",
        "g7s_KMx5Jg9X",
        "5h-ChNlzb9_b",
        "BIggGSkARO1d",
        "4ENBh7ShRJdp",
        "6Fh3QPhvXT63",
        "KeeUYD4_XRjF",
        "nCrC-oDuMTnC"
      ]
    },
    "kernelspec": {
      "name": "python3",
      "display_name": "Python 3"
    }
  },
  "cells": [
    {
      "cell_type": "markdown",
      "metadata": {
        "id": "XQs1dBt4GUAF",
        "colab_type": "text"
      },
      "source": [
        "# データ分析の基礎知識 (2019/10/26 八王子AI moto2g)\n",
        "## データの準備 ダウンロードしてgoogledriveへコピー\n",
        "- https://www.kaggle.com/c/titanic/data\n",
        "- https://vincentarelbundock.github.io/Rdatasets/datasets.html\n",
        " - Speed and Stopping Distances of Cars"
      ]
    },
    {
      "cell_type": "markdown",
      "metadata": {
        "id": "5SOXvIClFUHS",
        "colab_type": "text"
      },
      "source": [
        "# データの読み込み"
      ]
    },
    {
      "cell_type": "code",
      "metadata": {
        "id": "opghDyTfdIE3",
        "colab_type": "code",
        "colab": {}
      },
      "source": [
        "import pandas as pd\n",
        "import numpy as np\n",
        "from matplotlib import pyplot as plt\n",
        "%matplotlib inline"
      ],
      "execution_count": 0,
      "outputs": []
    },
    {
      "cell_type": "code",
      "metadata": {
        "id": "eUEJxkUhaoWn",
        "colab_type": "code",
        "colab": {}
      },
      "source": [
        "# Google Driveへの接続\n",
        "import google.colab.drive\n",
        "google.colab.drive.mount('gdrive')"
      ],
      "execution_count": 0,
      "outputs": []
    },
    {
      "cell_type": "code",
      "metadata": {
        "colab_type": "code",
        "id": "JdyXFYV5i7-T",
        "colab": {}
      },
      "source": [
        "# ファイル読み込み\n",
        "train = pd.read_csv('gdrive/My Drive/titanic/train.csv')\n",
        "test = pd.read_csv('gdrive/My Drive/titanic/test.csv')"
      ],
      "execution_count": 0,
      "outputs": []
    },
    {
      "cell_type": "markdown",
      "metadata": {
        "id": "PotLvDWymbW-",
        "colab_type": "text"
      },
      "source": [
        "# データの基礎調査"
      ]
    },
    {
      "cell_type": "code",
      "metadata": {
        "id": "6CzuapbenH6n",
        "colab_type": "code",
        "colab": {}
      },
      "source": [
        "# 行列数を取得\n",
        "print(train.shape)\n",
        "print(test.shape)"
      ],
      "execution_count": 0,
      "outputs": []
    },
    {
      "cell_type": "markdown",
      "metadata": {
        "id": "PrKE0KpUoyxm",
        "colab_type": "text"
      },
      "source": [
        "## データの中身を見てみる"
      ]
    },
    {
      "cell_type": "code",
      "metadata": {
        "id": "adytSrtLdlUb",
        "colab_type": "code",
        "colab": {}
      },
      "source": [
        "# 先頭行を表示\n",
        "train.head()"
      ],
      "execution_count": 0,
      "outputs": []
    },
    {
      "cell_type": "code",
      "metadata": {
        "id": "zHUdzkTUdtH9",
        "colab_type": "code",
        "colab": {}
      },
      "source": [
        "# 末尾行を表示\n",
        "test.tail()"
      ],
      "execution_count": 0,
      "outputs": []
    },
    {
      "cell_type": "code",
      "metadata": {
        "id": "3HZvjwbopDbI",
        "colab_type": "code",
        "colab": {}
      },
      "source": [
        "# 特定のカラムの内容を表示\n",
        "train[['Name','Sex','Age']].head(10)"
      ],
      "execution_count": 0,
      "outputs": []
    },
    {
      "cell_type": "markdown",
      "metadata": {
        "id": "jeMXHUPbn3n1",
        "colab_type": "text"
      },
      "source": [
        "## 統計量を見てみる\n",
        "- count データ数\n",
        "- mean 平均\n",
        "- std 標準偏差\n",
        "- min 最小値\n",
        "- 50% 数えていって真ん中の値\n",
        "- max 最大値\n"
      ]
    },
    {
      "cell_type": "code",
      "metadata": {
        "id": "HEX0aNVkeR9K",
        "colab_type": "code",
        "colab": {}
      },
      "source": [
        "# 統計量を表示\n",
        "train.describe()"
      ],
      "execution_count": 0,
      "outputs": []
    },
    {
      "cell_type": "markdown",
      "metadata": {
        "id": "X4gj9V1djzLv",
        "colab_type": "text"
      },
      "source": [
        "## 欠損値の確認\n",
        "- セルが欠損値かどうかを返す isnull()\n",
        "- 列ごとに欠損値の有無を確認する isnull().any()\n",
        "- 欠損値の数を確認する isnull().sum()"
      ]
    },
    {
      "cell_type": "code",
      "metadata": {
        "id": "-SvcEwkCjyyJ",
        "colab_type": "code",
        "colab": {}
      },
      "source": [
        "# カラムごとに欠損値の有無を確認\n",
        "# Age、Cabin、Embarkedに欠損値があることが判明\n",
        "train.isnull().any()"
      ],
      "execution_count": 0,
      "outputs": []
    },
    {
      "cell_type": "code",
      "metadata": {
        "id": "w-tniFBRRJE6",
        "colab_type": "code",
        "colab": {}
      },
      "source": [
        "train.isnull().sum()"
      ],
      "execution_count": 0,
      "outputs": []
    },
    {
      "cell_type": "markdown",
      "metadata": {
        "id": "-lKziy4XkaVi",
        "colab_type": "text"
      },
      "source": [
        "## 欠損値への対処\n",
        "- そのレコードを使用しない\n",
        "- 他の値にする"
      ]
    },
    {
      "cell_type": "markdown",
      "metadata": {
        "id": "fsHXlgiclJSD",
        "colab_type": "text"
      },
      "source": [
        "### 欠損値のあるレコードを使用しない"
      ]
    },
    {
      "cell_type": "code",
      "metadata": {
        "id": "TI5RYVlpkaBn",
        "colab_type": "code",
        "colab": {}
      },
      "source": [
        "# Nanのレコードを削除 dropna()\n",
        "train.dropna(subset=['Age'])[['Name','Sex','Age']].head(10) # subsetを指定しなければ、どこかのカラムにNaNがレコードが削除される"
      ],
      "execution_count": 0,
      "outputs": []
    },
    {
      "cell_type": "markdown",
      "metadata": {
        "id": "0xMzZ_6Xuazt",
        "colab_type": "text"
      },
      "source": [
        "### 欠損値を他の値にする"
      ]
    },
    {
      "cell_type": "code",
      "metadata": {
        "id": "9e32iVn_SEuN",
        "colab_type": "code",
        "colab": {}
      },
      "source": [
        "# 年齢を平均値で置き換える\n",
        "train['Age'].mean()"
      ],
      "execution_count": 0,
      "outputs": []
    },
    {
      "cell_type": "code",
      "metadata": {
        "id": "31_SkU_auabZ",
        "colab_type": "code",
        "colab": {}
      },
      "source": [
        "# NaNを他の値にする fillna\n",
        "train['Age'].fillna(value=train['Age'].mean()).head(10)\n",
        "# 上記は置換後の値を返すだけなので、実際にこれを使う場合は、データフレームの値を置き換える必要がある\n",
        "# train['Age'] = train['Age'].fillna(train['Age'].mean())"
      ],
      "execution_count": 0,
      "outputs": []
    },
    {
      "cell_type": "markdown",
      "metadata": {
        "id": "5O74PXFUr4-q",
        "colab_type": "text"
      },
      "source": [
        "## NaN以外にも使えないデータはあり得る\n",
        "- 数値を取るべきカラムに文字\n",
        "- 数値がありえない範囲になっている\n",
        "- フォーマットが異なっている"
      ]
    },
    {
      "cell_type": "code",
      "metadata": {
        "id": "qck3FVHdfIhG",
        "colab_type": "code",
        "colab": {}
      },
      "source": [
        "# そのカラムがどういう値をとっているのかを列挙 value_counts()\n",
        "train['Cabin'].value_counts().head(10)"
      ],
      "execution_count": 0,
      "outputs": []
    },
    {
      "cell_type": "markdown",
      "metadata": {
        "id": "EJjfvBccdw15",
        "colab_type": "text"
      },
      "source": [
        "## ラベルから数値への置換\n",
        "### 性別を変換"
      ]
    },
    {
      "cell_type": "code",
      "metadata": {
        "id": "14abVFMIXDk8",
        "colab_type": "code",
        "colab": {}
      },
      "source": [
        "train.head(10)"
      ],
      "execution_count": 0,
      "outputs": []
    },
    {
      "cell_type": "code",
      "metadata": {
        "id": "ct_WZL9rVsOf",
        "colab_type": "code",
        "colab": {}
      },
      "source": [
        "# 直接返還\n",
        "train2 = train.copy()\n",
        "train2['Sex'][train2['Sex'] == 'female'] = 0\n",
        "train2.head(10)"
      ],
      "execution_count": 0,
      "outputs": []
    },
    {
      "cell_type": "code",
      "metadata": {
        "id": "DRE-bajad3jP",
        "colab_type": "code",
        "colab": {}
      },
      "source": [
        "# 一括で変換\n",
        "train2 = train.copy()\n",
        "mapped = {'male':0, 'female':1}\n",
        "train2['Sex'] = train['Sex'].map(mapped)\n",
        "train2.head(10)"
      ],
      "execution_count": 0,
      "outputs": []
    },
    {
      "cell_type": "markdown",
      "metadata": {
        "id": "L7aNoqqpHbR_",
        "colab_type": "text"
      },
      "source": [
        "# グラフを書いてみる"
      ]
    },
    {
      "cell_type": "markdown",
      "metadata": {
        "id": "lTnFHwIzHaoY",
        "colab_type": "text"
      },
      "source": [
        "## ヒストグラム\n",
        "- データの偏りを見る"
      ]
    },
    {
      "cell_type": "code",
      "metadata": {
        "id": "tsAbO1oml65b",
        "colab_type": "code",
        "colab": {}
      },
      "source": [
        "train['Age'].plot.hist(grid=True, title='histgram')\n",
        "plt.axvline(x=train['Age'].mean(), color=\"red\")"
      ],
      "execution_count": 0,
      "outputs": []
    },
    {
      "cell_type": "markdown",
      "metadata": {
        "id": "g7s_KMx5Jg9X",
        "colab_type": "text"
      },
      "source": [
        "## 箱ひげ図\n",
        "- データの範囲を見る\n",
        "- 線:上下が最大値、最小値\n",
        "- 箱:上側ヒンジ...大きい方から25%のところにある数値、中央値、下側ヒンジ...大きい方から25%のところにある数値\n",
        "- 丸:外れ値\n",
        "- 箱が大きいほどバラけている"
      ]
    },
    {
      "cell_type": "code",
      "metadata": {
        "id": "ZF2z0LftUV4T",
        "colab_type": "code",
        "colab": {}
      },
      "source": [
        "# 別のサンプルデータ読み込み 車の速度と停止までの距離\n",
        "dtrain = pd.read_csv('gdrive/My Drive/dataset/cars_train.csv')\n",
        "dtest = pd.read_csv('gdrive/My Drive/dataset/cars_test.csv')"
      ],
      "execution_count": 0,
      "outputs": []
    },
    {
      "cell_type": "code",
      "metadata": {
        "id": "lC2BZYICQdfx",
        "colab_type": "code",
        "colab": {}
      },
      "source": [
        "dtrain.head(10)"
      ],
      "execution_count": 0,
      "outputs": []
    },
    {
      "cell_type": "code",
      "metadata": {
        "id": "x4NU40-JP6hx",
        "colab_type": "code",
        "colab": {}
      },
      "source": [
        "dtrain[['dist', 'speed']].boxplot(by='speed')"
      ],
      "execution_count": 0,
      "outputs": []
    },
    {
      "cell_type": "markdown",
      "metadata": {
        "id": "5h-ChNlzb9_b",
        "colab_type": "text"
      },
      "source": [
        "## 散布図\n",
        "- データの相関関係を見る"
      ]
    },
    {
      "cell_type": "markdown",
      "metadata": {
        "id": "BIggGSkARO1d",
        "colab_type": "text"
      },
      "source": [
        "### 速度と移動距離の相関"
      ]
    },
    {
      "cell_type": "code",
      "metadata": {
        "id": "smQhIo7LRaiE",
        "colab_type": "code",
        "colab": {}
      },
      "source": [
        "# 相関係数 -1 ～ 負の相関 ～ 0:無相関 ～ 正の相関 ～ 1\n",
        "dtrain[['dist', 'speed']].corr()"
      ],
      "execution_count": 0,
      "outputs": []
    },
    {
      "cell_type": "code",
      "metadata": {
        "id": "YqpYi1KjfE6T",
        "colab_type": "code",
        "colab": {}
      },
      "source": [
        "dtrain.plot.scatter(x='dist', y='speed')"
      ],
      "execution_count": 0,
      "outputs": []
    },
    {
      "cell_type": "markdown",
      "metadata": {
        "id": "4ENBh7ShRJdp",
        "colab_type": "text"
      },
      "source": [
        "### 性別と生存の相関 意味無し"
      ]
    },
    {
      "cell_type": "code",
      "metadata": {
        "id": "Up1pAwO6b9dF",
        "colab_type": "code",
        "colab": {}
      },
      "source": [
        "# 性別を数値に置き換えたものを別のカラムとして追加\n",
        "mapped = {'male':0, 'female':1}\n",
        "train['SexInt'] = train['Sex'].map(mapped)\n",
        "train[['Sex','SexInt']].head()"
      ],
      "execution_count": 0,
      "outputs": []
    },
    {
      "cell_type": "code",
      "metadata": {
        "id": "zwNkIpW1Iv8j",
        "colab_type": "code",
        "colab": {}
      },
      "source": [
        "train[['SexInt','Survived']].corr()"
      ],
      "execution_count": 0,
      "outputs": []
    },
    {
      "cell_type": "markdown",
      "metadata": {
        "id": "6Fh3QPhvXT63",
        "colab_type": "text"
      },
      "source": [
        "# 予測してみる\n",
        "- 説明変数 ... 予測の元になる値\n",
        "- 目的変数 ... 予測したい値"
      ]
    },
    {
      "cell_type": "markdown",
      "metadata": {
        "id": "KeeUYD4_XRjF",
        "colab_type": "text"
      },
      "source": [
        "## 単回帰モデル y = ax + b"
      ]
    },
    {
      "cell_type": "code",
      "metadata": {
        "id": "gNMpMbYGMv1Z",
        "colab_type": "code",
        "colab": {}
      },
      "source": [
        "from sklearn.linear_model import LinearRegression as LR"
      ],
      "execution_count": 0,
      "outputs": []
    },
    {
      "cell_type": "code",
      "metadata": {
        "id": "v8k1eLjXXXB7",
        "colab_type": "code",
        "colab": {}
      },
      "source": [
        "# データ読み込み(サンプルデータはcarsを使用)\n",
        "train = pd.read_csv('gdrive/My Drive/dataset/cars_train.csv')\n",
        "test = pd.read_csv('gdrive/My Drive/dataset/cars_test.csv')"
      ],
      "execution_count": 0,
      "outputs": []
    },
    {
      "cell_type": "code",
      "metadata": {
        "id": "MKcALvu0XINB",
        "colab_type": "code",
        "colab": {}
      },
      "source": [
        "# 変数にデータを格納\n",
        "trainX = train[\"speed\"]\n",
        "y = train[\"dist\"]\n",
        "testX = test[\"speed\"]"
      ],
      "execution_count": 0,
      "outputs": []
    },
    {
      "cell_type": "code",
      "metadata": {
        "id": "R_cWpcluXSVX",
        "colab_type": "code",
        "colab": {}
      },
      "source": [
        "# 単回帰モデルの場合は形式変換が必要(ここはそういうものと覚える)\n",
        "trainX = trainX.values.reshape(-1,1)\n",
        "testX = testX.values.reshape(-1,1)"
      ],
      "execution_count": 0,
      "outputs": []
    },
    {
      "cell_type": "code",
      "metadata": {
        "id": "PUYDFe76Vwa2",
        "colab_type": "code",
        "colab": {}
      },
      "source": [
        "# モデル生成\n",
        "my_model = LR()\n",
        "my_model.fit(trainX, y)"
      ],
      "execution_count": 0,
      "outputs": []
    },
    {
      "cell_type": "code",
      "metadata": {
        "id": "WU6kbCRiV2dE",
        "colab_type": "code",
        "colab": {}
      },
      "source": [
        "# 傾き、切片\n",
        "(my_model.coef_, my_model.intercept_)"
      ],
      "execution_count": 0,
      "outputs": []
    },
    {
      "cell_type": "code",
      "metadata": {
        "id": "AaOnpBshpOCc",
        "colab_type": "code",
        "colab": {}
      },
      "source": [
        "# 1つのテストデータの予測値を見てみる\n",
        "print(\"入力{} 予測{}\".format(testX[0], testX[0] * my_model.coef_ + my_model.intercept_))"
      ],
      "execution_count": 0,
      "outputs": []
    },
    {
      "cell_type": "code",
      "metadata": {
        "id": "n3LlbBdhormm",
        "colab_type": "code",
        "colab": {}
      },
      "source": [
        "# テストデータ全体の予測値を求める\n",
        "my_model.predict(testX)"
      ],
      "execution_count": 0,
      "outputs": []
    },
    {
      "cell_type": "code",
      "metadata": {
        "id": "qDcdT0B65iuf",
        "colab_type": "code",
        "colab": {}
      },
      "source": [
        "test"
      ],
      "execution_count": 0,
      "outputs": []
    },
    {
      "cell_type": "code",
      "metadata": {
        "id": "2zpfrNb6V33N",
        "colab_type": "code",
        "colab": {}
      },
      "source": [
        "# 図示する\n",
        "# 青:モデル生成に使ったデータ\n",
        "# 赤:予測モデル\n",
        "fig = plt.figure()\n",
        "ax1 = train.plot.scatter(x='speed', y='dist')\n",
        "x = np.arange(0, 25, 0.1).reshape(-1, 1)\n",
        "y = my_model.predict(x)\n",
        "ax1.plot(x, y, 'r--')"
      ],
      "execution_count": 0,
      "outputs": []
    },
    {
      "cell_type": "markdown",
      "metadata": {
        "id": "nCrC-oDuMTnC",
        "colab_type": "text"
      },
      "source": [
        "## 決定木"
      ]
    },
    {
      "cell_type": "code",
      "metadata": {
        "id": "FR_srMMv2dkw",
        "colab_type": "code",
        "colab": {}
      },
      "source": [
        "from sklearn import tree"
      ],
      "execution_count": 0,
      "outputs": []
    },
    {
      "cell_type": "code",
      "metadata": {
        "id": "CghOAsdNNAqy",
        "colab_type": "code",
        "colab": {}
      },
      "source": [
        "# データ読み込み(サンプルデータはtitanicを使用)\n",
        "train = pd.read_csv('gdrive/My Drive/titanic/train.csv')\n",
        "test = pd.read_csv('gdrive/My Drive/titanic/test.csv')"
      ],
      "execution_count": 0,
      "outputs": []
    },
    {
      "cell_type": "code",
      "metadata": {
        "id": "4ywONKsAbcvc",
        "colab_type": "code",
        "colab": {}
      },
      "source": [
        "# NaNの置き換え\n",
        "train['Age'] = train['Age'].fillna(value=train['Age'].mean())\n",
        "# ラベルの数値化 警告出ます\n",
        "train['Sex'][train['Sex'] == 'male'] = 0\n",
        "train['Sex'][train['Sex'] == 'female'] = 1\n",
        "\n",
        "# mappedは指定していない値はNaNになる。下記を2回以上実行するとNaNになるので注意\n",
        "#mapped = {'male':0, 'female':1}\n",
        "#train['Sex'] = train['Sex'].map(mapped)"
      ],
      "execution_count": 0,
      "outputs": []
    },
    {
      "cell_type": "code",
      "metadata": {
        "id": "LFVB7R5Pa-E6",
        "colab_type": "code",
        "colab": {}
      },
      "source": [
        "# NaNの置き換え\n",
        "test['Age'] = test['Age'].fillna(value=test['Age'].mean())\n",
        "# ラベルの数値化 警告出ます\n",
        "test['Sex'][test['Sex'] == 'male'] = 0\n",
        "test['Sex'][test['Sex'] == 'female'] = 1"
      ],
      "execution_count": 0,
      "outputs": []
    },
    {
      "cell_type": "code",
      "metadata": {
        "id": "wtbGo_HZM5FH",
        "colab_type": "code",
        "colab": {}
      },
      "source": [
        "target = train['Survived'].values\n",
        "features = train[['Sex','Age']].values "
      ],
      "execution_count": 0,
      "outputs": []
    },
    {
      "cell_type": "code",
      "metadata": {
        "id": "p-6onucTNwEq",
        "colab_type": "code",
        "colab": {}
      },
      "source": [
        "# 決定木の作成\n",
        "my_model = tree.DecisionTreeClassifier().fit(features, target)"
      ],
      "execution_count": 0,
      "outputs": []
    },
    {
      "cell_type": "code",
      "metadata": {
        "id": "Wuz5cu7jaJ6D",
        "colab_type": "code",
        "colab": {}
      },
      "source": [
        "# テストデータの予測値を求める\n",
        "testX = test[[\"Sex\", \"Age\"]].values\n",
        "my_model.predict(testX)"
      ],
      "execution_count": 0,
      "outputs": []
    },
    {
      "cell_type": "code",
      "metadata": {
        "id": "8c7eMTm9gNl4",
        "colab_type": "code",
        "colab": {}
      },
      "source": [
        "# kaggleへ提出するCSV作成\n",
        "pred = my_model.predict(testX)\n",
        "passenger_id = np.array(test[\"PassengerId\"]).astype(int)\n",
        "df = pd.DataFrame(data = pred, index = passenger_id, columns = [\"Survived\"])\n",
        "df.to_csv(\"pred.csv\", index_label = [\"PassengerId\"]) "
      ],
      "execution_count": 0,
      "outputs": []
    },
    {
      "cell_type": "code",
      "metadata": {
        "id": "yd0f-a9xhj-b",
        "colab_type": "code",
        "colab": {}
      },
      "source": [
        ""
      ],
      "execution_count": 0,
      "outputs": []
    }
  ]
}